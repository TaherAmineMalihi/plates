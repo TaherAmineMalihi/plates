{
 "cells": [
  {
   "cell_type": "code",
   "execution_count": 29,
   "id": "1ff46583",
   "metadata": {},
   "outputs": [],
   "source": [
    "import cv2\n",
    "from predict_results_plates import YOLO_Pred\n",
    "import easyocr\n",
    "import os\n",
    "import numpy as np\n",
    "import pandas as pd"
   ]
  },
  {
   "cell_type": "code",
   "execution_count": 30,
   "id": "c88e0dbf",
   "metadata": {},
   "outputs": [],
   "source": [
    "yolo = YOLO_Pred('C:/Users/tmalihi/Desktop/Plates_IA/Model/weights/best.onnx',\"C:/Users/tmalihi/Desktop/Plates_IA/data.yaml\")"
   ]
  },
  {
   "cell_type": "code",
   "execution_count": 35,
   "id": "a5c463eb",
   "metadata": {},
   "outputs": [],
   "source": [
    "image = cv2.imread(\"C:/Users/tmalihi/Desktop/Plates_IA/image2.jpg\")\n",
    "\n",
    "\n",
    "width = 1200\n",
    "height = 700\n",
    "object_count = {}\n",
    "\n",
    "\n",
    "image = cv2.resize(image, (width, height))\n",
    "cv2.imshow('image',image)\n",
    "cv2.waitKey(0)\n",
    "cv2.destroyAllWindows()"
   ]
  },
  {
   "cell_type": "code",
   "execution_count": 36,
   "id": "8a11b994",
   "metadata": {},
   "outputs": [
    {
     "name": "stdout",
     "output_type": "stream",
     "text": [
      "Saved C:/Users/tmalihi/Desktop/Plates_IA/saved_plate/image_0.png\n",
      "Saved C:/Users/tmalihi/Desktop/Plates_IA/saved_plate/image_1.png\n",
      "Saved C:/Users/tmalihi/Desktop/Plates_IA/saved_plate/image_2.png\n",
      "Saved C:/Users/tmalihi/Desktop/Plates_IA/saved_plate/image_3.png\n",
      "Saved C:/Users/tmalihi/Desktop/Plates_IA/saved_plate/image_4.png\n",
      "Saved C:/Users/tmalihi/Desktop/Plates_IA/saved_plate/image_5.png\n",
      "Saved C:/Users/tmalihi/Desktop/Plates_IA/saved_plate/image_6.png\n",
      "Saved C:/Users/tmalihi/Desktop/Plates_IA/saved_plate/image_7.png\n",
      "Saved C:/Users/tmalihi/Desktop/Plates_IA/saved_plate/image_8.png\n",
      "Saved C:/Users/tmalihi/Desktop/Plates_IA/saved_plate/image_9.png\n",
      "Object count:\n",
      "plate: 1\n",
      "car: 1\n"
     ]
    }
   ],
   "source": [
    "#predictions image\n",
    "img_pred, object_count, crop, classes = yolo.predictions(image)\n",
    "cv2.imshow('prediction_image',image)\n",
    "\n",
    "\n",
    "#objects counted\n",
    "print('Object count:')\n",
    "for class_name, count in object_count.items():\n",
    "    print(f'{class_name}: {count}')\n",
    "\n",
    "#condition\n",
    "    if object_count[class_name] > 20:\n",
    "            print(\"the road is bad\")\n",
    "    object_count[class_name] = 0\n",
    "\n",
    "\n",
    "cv2.waitKey(0)\n",
    "cv2.destroyAllWindows()"
   ]
  },
  {
   "cell_type": "code",
   "execution_count": 37,
   "id": "7082be74",
   "metadata": {},
   "outputs": [],
   "source": [
    "crop = cv2.resize(crop,(500,100))\n",
    "cv2.imshow(\"crop\", crop)\n",
    "cv2.waitKey(0)\n",
    "cv2.destroyAllWindows()"
   ]
  },
  {
   "cell_type": "code",
   "execution_count": 38,
   "id": "cb41d064",
   "metadata": {},
   "outputs": [
    {
     "name": "stderr",
     "output_type": "stream",
     "text": [
      "Neither CUDA nor MPS are available - defaulting to CPU. Note: This module is much faster with a GPU.\n"
     ]
    },
    {
     "name": "stdout",
     "output_type": "stream",
     "text": [
      "292MBC \n"
     ]
    }
   ],
   "source": [
    "reader = easyocr.Reader(['en'], gpu = True)\n",
    "results = reader.readtext(crop)\n",
    "text = \"\"\n",
    "for i in results:\n",
    "    text = text + i[1] + \" \"\n",
    "print(text)"
   ]
  },
  {
   "cell_type": "code",
   "execution_count": 12,
   "id": "dc0bf010",
   "metadata": {},
   "outputs": [
    {
     "name": "stdout",
     "output_type": "stream",
     "text": [
      "[0, 0, 0, 0, 0, 0, 0, 0, 0, 0, 1, 1, 1, 1, 1, 1]\n"
     ]
    }
   ],
   "source": [
    "print(classes)"
   ]
  },
  {
   "cell_type": "code",
   "execution_count": null,
   "id": "4c939281",
   "metadata": {},
   "outputs": [],
   "source": []
  },
  {
   "cell_type": "code",
   "execution_count": null,
   "id": "86fc0fdc",
   "metadata": {},
   "outputs": [],
   "source": []
  },
  {
   "cell_type": "code",
   "execution_count": null,
   "id": "cb9f8551",
   "metadata": {},
   "outputs": [],
   "source": []
  },
  {
   "cell_type": "code",
   "execution_count": 21,
   "id": "cb80e9a9",
   "metadata": {},
   "outputs": [
    {
     "name": "stdout",
     "output_type": "stream",
     "text": [
      "(40, 142, 3)\n"
     ]
    }
   ],
   "source": [
    "print(crop.shape)"
   ]
  },
  {
   "cell_type": "code",
   "execution_count": null,
   "id": "030fa8d9",
   "metadata": {},
   "outputs": [],
   "source": []
  },
  {
   "cell_type": "code",
   "execution_count": null,
   "id": "fd780fee",
   "metadata": {},
   "outputs": [],
   "source": []
  }
 ],
 "metadata": {
  "kernelspec": {
   "display_name": "Python 3 (ipykernel)",
   "language": "python",
   "name": "python3"
  },
  "language_info": {
   "codemirror_mode": {
    "name": "ipython",
    "version": 3
   },
   "file_extension": ".py",
   "mimetype": "text/x-python",
   "name": "python",
   "nbconvert_exporter": "python",
   "pygments_lexer": "ipython3",
   "version": "3.11.3"
  }
 },
 "nbformat": 4,
 "nbformat_minor": 5
}
